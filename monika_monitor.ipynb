{
 "cells": [
  {
   "cell_type": "code",
   "execution_count": null,
   "metadata": {},
   "outputs": [],
   "source": [
    "import requests\n",
    "import json\n",
    "import hmac, hashlib\n",
    "import multiprocessing\n",
    "import os\n",
    "import csv\n",
    "\n",
    "root_site = 'https://api.binance.com'\n",
    "\n",
    "\n",
    "publicKey = ''\n",
    "secretKey = ''\n",
    "\n",
    "\n",
    "ping = '/api/v1/ping'\n",
    "time = '/api/v1/time'\n",
    "\n",
    "orderbook = '/api/v1/depth'\n",
    "trade = '/api/v3/order'\n",
    "candle = '/api/v1/klines'\n",
    "account = '/api/v3/account'\n",
    "\n",
    "def serverTime():\n",
    "    return requests.get(root_site + time).json()['serverTime']\n",
    "\n",
    "def data_string(params):\n",
    "    data = r''\n",
    "    for key in sorted(params.keys()):\n",
    "        data += r'%s=%s&' % (key[1:], params[key])\n",
    "    \n",
    "    data += r'timestamp=%s' % serverTime()\n",
    "    return data\n",
    "\n",
    "def signer(data):\n",
    "    return hmac.new(secretKey, data, hashlib.sha256).hexdigest()\n",
    "\n",
    "def trade_coin(symbol, side, quantity, price):\n",
    "    template = {\n",
    "        '1symbol': symbol.upper(),\n",
    "        '2side': side.upper(),\n",
    "        '3type': 'LIMIT',\n",
    "        '4timeInForce': 'GTC',\n",
    "        '5quantity': quantity,\n",
    "        '6price': price\n",
    "    }\n",
    "\n",
    "    data = data_string(template)\n",
    "    print data\n",
    "    print signer(data)\n",
    "    r = requests.post(root_site + trade + '?' + data + '&signature=%s' % signer(data), headers={'X-MBX-APIKEY': publicKey}).json()\n",
    "    print r.text\n",
    "    return r, r['orderId']\n",
    "\n",
    "def check_order(symbol, orderId):\n",
    "    template = {\n",
    "        '1symbol': symbol.upper(),\n",
    "        '2orderId': orderId\n",
    "    }\n",
    "\n",
    "    data = data_string(template)\n",
    "    r = requests.get(root_site + trade + '?' + data + '&signature=%s' % signer(data), headers={'X-MBX-APIKEY': publicKey}).json()\n",
    "    return r, r['status']\n",
    "\n",
    "def wait_done(symbol, orderId):\n",
    "    while(check_order(symbol, orderId)[1] != u'FILLED'):\n",
    "        pass\n",
    "    \n",
    "eth_min = 1\n",
    "btc_min = 0.06\n",
    "safety_ratio = 0.5\n",
    "\n",
    "def sat_vol(top, bot, prices):\n",
    "    if bot == 'btc':\n",
    "        thresh = btc_min\n",
    "    elif bot == 'eth':\n",
    "        thresh = eth_min\n",
    "        \n",
    "    total_vol = 0\n",
    "    for price, vol, _ in prices:\n",
    "        price = float(price)\n",
    "        vol = float(vol)\n",
    "        last_price = price\n",
    "        total_vol += price*vol\n",
    "        if total_vol >= thresh:\n",
    "            break\n",
    "            \n",
    "    return last_price, total_vol\n",
    "\n",
    "\n",
    "if not os.path.exists('error_log.txt'):\n",
    "    with open('error_log.txt', 'wb') as f:\n",
    "        pass\n",
    "\n",
    "def get_price(top, bot, tradeType):\n",
    "    data = requests.get(root_site + orderbook, params={'symbol':'%s%s'%(top.upper(), bot.upper()), 'limit': '10'})\n",
    "    if data.ok:\n",
    "        data = data.json()\n",
    "        return sat_vol(top, bot, data[tradeType])\n",
    "    else:\n",
    "        with open('error_log.txt', 'a') as f:\n",
    "            f.write('%s, %s, %s:\\n' % (top, bot, tradeType))\n",
    "            f.write(data.text)\n",
    "            f.write('\\n\\n\\n\\n')\n",
    "        return (0, 0)\n",
    "\n",
    "\n",
    "def eth_btc_alt_eth(alt):\n",
    "    acq_btc, btc_vol1 = get_price('eth', 'btc', 'bids')\n",
    "    acq_alt, btc_vol2 = get_price(alt, 'btc', 'asks')\n",
    "    acq_eth, eth_vol = get_price(alt, 'eth', 'bids')\n",
    "    btc_vol3 = eth_vol*acq_btc\n",
    "    \n",
    "    profit_ratio = acq_btc*(1.0/acq_alt)*acq_eth\n",
    "    return profit_ratio, min(btc_vol1, btc_vol2, btc_vol3), acq_btc, acq_alt, acq_eth\n",
    "\n",
    "\n",
    "def eth_alt_btc_eth(alt):\n",
    "    acq_alt, eth_vol = get_price(alt, 'eth', 'asks')\n",
    "    acq_btc, btc_vol1 = get_price(alt, 'btc', 'bids')\n",
    "    acq_eth, btc_vol2 = get_price('eth', 'btc', 'asks')\n",
    "    btc_vol3 = eth_vol*acq_eth\n",
    "    \n",
    "    profit_ratio = (1.0/acq_alt)*acq_btc*(1.0/acq_eth)\n",
    "\n",
    "    v1 = min_btc_vol / acq_btc\n",
    "    b2 = \n",
    "    return profit_ratio, min(btc_vol1, btc_vol2, btc_vol3), acq_alt, acq_btc, acq_eth"
   ]
  },
  {
   "cell_type": "code",
   "execution_count": 47,
   "metadata": {},
   "outputs": [],
   "source": [
    "acq_btc, btc_vol1 = get_price('eth', 'btc', 'bids')\n",
    "acq_alt, btc_vol2 = get_price('xrp', 'btc', 'asks')\n",
    "acq_eth, eth_vol = get_price('xrp', 'eth', 'bids')"
   ]
  },
  {
   "cell_type": "code",
   "execution_count": 48,
   "metadata": {},
   "outputs": [
    {
     "data": {
      "text/plain": [
       "0.11485044"
      ]
     },
     "execution_count": 48,
     "metadata": {},
     "output_type": "execute_result"
    }
   ],
   "source": [
    "btc_vol1"
   ]
  },
  {
   "cell_type": "code",
   "execution_count": 49,
   "metadata": {},
   "outputs": [
    {
     "data": {
      "text/plain": [
       "0.09384533"
      ]
     },
     "execution_count": 49,
     "metadata": {},
     "output_type": "execute_result"
    }
   ],
   "source": [
    "btc_vol2"
   ]
  },
  {
   "cell_type": "code",
   "execution_count": 50,
   "metadata": {},
   "outputs": [
    {
     "data": {
      "text/plain": [
       "1.45773622"
      ]
     },
     "execution_count": 50,
     "metadata": {},
     "output_type": "execute_result"
    }
   ],
   "source": [
    "eth_vol"
   ]
  },
  {
   "cell_type": "code",
   "execution_count": null,
   "metadata": {},
   "outputs": [],
   "source": []
  },
  {
   "cell_type": "code",
   "execution_count": null,
   "metadata": {},
   "outputs": [],
   "source": []
  },
  {
   "cell_type": "code",
   "execution_count": 40,
   "metadata": {},
   "outputs": [],
   "source": [
    "candidates = ['bcd', 'dgd', 'xzc', 'ppt', 'nav', 'nebl', 'waves', 'kmd', 'btg', 'ark', 'storj', 'strat', 'zec', 'mod', 'oax',\n",
    "              'iota', 'neo', 'icx', 'req', 'appc', 'ven', 'eos', 'poe', 'ltc', 'xvg', 'xlm', 'bnb', 'ada', 'arn', 'xrp', 'trx']\n",
    "\n",
    "\n",
    "stride = 8\n",
    "alt_input = [(idx, candidates[x:x+stride]) for idx, x in enumerate(xrange(0, len(candidates), stride))]\n",
    "\n",
    "\n",
    "price_thresh = 1.003\n",
    "output_file = 'shitcoin_profit_%s.csv'\n",
    "heartbeat = 100\n",
    "\n",
    "if not os.path.exists('alive.csv'):\n",
    "    with open('alive.csv', 'wb') as f:\n",
    "        pass\n",
    "\n",
    "\n",
    "def monika_monitor((pid, targets)):\n",
    "    counter = 0\n",
    "    while True:\n",
    "        if counter == 0 or counter == heartbeat:\n",
    "            counter = 1\n",
    "            with open('alive.csv', 'a') as f:\n",
    "                csv.writer(f).writerow([pid])\n",
    "\n",
    "        counter += 1\n",
    "\n",
    "        for alt in targets:\n",
    "            price1, vol1, p11, p12, p13 = eth_btc_alt_eth(alt)\n",
    "            price2, vol2, p21, p22, p23 = eth_alt_btc_eth(alt)\n",
    "            \n",
    "            if (price1 >= price_thresh or price2 >= price_thresh):\n",
    "                with open(output_file % pid, 'a') as f:\n",
    "                    writer = csv.writer(f)\n",
    "                    writer.writerow([alt, price1, vol1, price2, vol2])\n",
    "                    \n",
    "                vol1 = vol1 * safety_ratio\n",
    "                vol2 = vol2 * safety_ratio\n",
    "                \n",
    "                if price1 > price2:\n",
    "                    symbol = 'ethbtc'\n",
    "                    vol = eth_min*safety_ratio*p11\n",
    "                    sell_eth_btc, orderId = trade_coin(symbol, 'sell', vol, p11)\n",
    "                    wait_done(symbol, orderId)\n",
    "\n",
    "                    symbol = '%sbtc' % alt\n",
    "                    vol = btc_min*safety_ratio*p12\n",
    "                    buy_alt_btc, orderId = trade_coin(symbol, 'buy', vol, p12)\n",
    "                    wait_done(symbol, orderId)\n",
    "\n",
    "                    symbol = '%seth' % alt\n",
    "                    sell_alt_eth, orderId = trade_coin(symbol, 'sell', vol1, p13)\n",
    "                    wait_done(symbol, orderId)\n",
    "                else:\n",
    "                    symbol = '%seth' % alt\n",
    "                    buy_alt_eth, orderId = trade_coin(symbol, 'buy', vol2, p21)\n",
    "                    wait_done(symbol, orderId)\n",
    "\n",
    "                    symbol = '%sbtc' % alt\n",
    "                    sell_alt_btc, orderId = trade_coin(symbol, 'sell', vol2, p22)\n",
    "                    wait_done(symbol, orderId)\n",
    "\n",
    "                    symbol = 'ethbtc'\n",
    "                    buy_eth_btc, orderId = trade_coin(symbol, 'buy', vol2, p23)\n",
    "                    wait_done(symbol, orderId)\n",
    "                \n",
    "\n",
    "for i, alts in alt_input:\n",
    "    if not os.path.exists(output_file % i):\n",
    "        with open(output_file % i, 'wb') as f:\n",
    "            writer = csv.writer(f)\n",
    "            writer.writerow(alts)\n",
    "            \n",
    "\n",
    "p = multiprocessing.Pool(len(alt_input))\n",
    "p.map(monika_monitor, alt_input)"
   ]
  },
  {
   "cell_type": "code",
   "execution_count": 41,
   "metadata": {},
   "outputs": [
    {
     "name": "stdout",
     "output_type": "stream",
     "text": [
      "symbol=SALTETH&side=SELL&type=LIMIT&timeInForce=GTC&quantity=20&price=0.025&timestamp=1515275851664\n",
      "1cb64826bc5e9c7f2355288b85140e4a51d65e3676364ac32bc7632e6456766e\n"
     ]
    }
   ],
   "source": [
    "x = trade_coin('salteth', 'sell', 20, 0.025)"
   ]
  },
  {
   "cell_type": "code",
   "execution_count": 42,
   "metadata": {},
   "outputs": [
    {
     "data": {
      "text/plain": [
       "({u'clientOrderId': u'adPqK1SP8UlVdaYhlqMYJt',\n",
       "  u'executedQty': u'0.00000000',\n",
       "  u'orderId': 4967861,\n",
       "  u'origQty': u'20.00000000',\n",
       "  u'price': u'0.02500000',\n",
       "  u'side': u'SELL',\n",
       "  u'status': u'NEW',\n",
       "  u'symbol': u'SALTETH',\n",
       "  u'timeInForce': u'GTC',\n",
       "  u'transactTime': 1515275852440L,\n",
       "  u'type': u'LIMIT'},\n",
       " 4967861)"
      ]
     },
     "execution_count": 42,
     "metadata": {},
     "output_type": "execute_result"
    }
   ],
   "source": [
    "x"
   ]
  },
  {
   "cell_type": "code",
   "execution_count": 35,
   "metadata": {},
   "outputs": [
    {
     "data": {
      "text/plain": [
       "True"
      ]
     },
     "execution_count": 35,
     "metadata": {},
     "output_type": "execute_result"
    }
   ],
   "source": [
    "x.json()['status'] == 'NEW'"
   ]
  },
  {
   "cell_type": "code",
   "execution_count": null,
   "metadata": {},
   "outputs": [],
   "source": []
  }
 ],
 "metadata": {
  "kernelspec": {
   "display_name": "Python 2",
   "language": "python",
   "name": "python2"
  },
  "language_info": {
   "codemirror_mode": {
    "name": "ipython",
    "version": 2
   },
   "file_extension": ".py",
   "mimetype": "text/x-python",
   "name": "python",
   "nbconvert_exporter": "python",
   "pygments_lexer": "ipython2",
   "version": "2.7.14"
  }
 },
 "nbformat": 4,
 "nbformat_minor": 2
}
