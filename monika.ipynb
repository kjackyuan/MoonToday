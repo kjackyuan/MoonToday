{
 "cells": [
  {
   "cell_type": "code",
   "execution_count": null,
   "metadata": {},
   "outputs": [],
   "source": [
    "import requests\n",
    "import json\n",
    "import hmac, hashlib"
   ]
  },
  {
   "cell_type": "code",
   "execution_count": null,
   "metadata": {},
   "outputs": [],
   "source": [
    "root_site = 'https://api.binance.com'"
   ]
  },
  {
   "cell_type": "code",
   "execution_count": null,
   "metadata": {},
   "outputs": [],
   "source": [
    "publicKey = 'vmPUZE6mv9SD5VNHk4HlWFsOr6aKE2zvsw0MuIgwCIPy6utIco14y7Ju91duEh8A'\n",
    "secretKey = 'NhqPtmdSJYdKjVHjA7PZj4Mge3R5YNiP1e3UZjInClVN65XAbvqqM6A7H5fATj0j'"
   ]
  },
  {
   "cell_type": "code",
   "execution_count": 161,
   "metadata": {},
   "outputs": [],
   "source": [
    "ping = '/api/v1/ping'\n",
    "time = '/api/v1/time'"
   ]
  },
  {
   "cell_type": "code",
   "execution_count": 162,
   "metadata": {},
   "outputs": [],
   "source": [
    "orderbook = '/api/v1/depth'\n",
    "trade = '/api/v3/order'\n",
    "candle = '/api/v1/klines'\n",
    "account = '/api/v3/account'"
   ]
  },
  {
   "cell_type": "code",
   "execution_count": 163,
   "metadata": {},
   "outputs": [],
   "source": [
    "def serverTime():\n",
    "    return requests.get(root_site + time).json()['serverTime']"
   ]
  },
  {
   "cell_type": "code",
   "execution_count": 178,
   "metadata": {},
   "outputs": [],
   "source": [
    "def data_string(params):\n",
    "    data = r''\n",
    "    for key in sorted(params.keys()):\n",
    "        data += r'%s=%s&' % (key[1:], params[key])\n",
    "    \n",
    "    data += r'timestamp=%s' % serverTime()\n",
    "    return data"
   ]
  },
  {
   "cell_type": "code",
   "execution_count": 165,
   "metadata": {},
   "outputs": [],
   "source": [
    "def signer (data):\n",
    "    return hmac.new(secretKey, data, hashlib.sha256).hexdigest()"
   ]
  },
  {
   "cell_type": "code",
   "execution_count": 166,
   "metadata": {},
   "outputs": [],
   "source": [
    "x = {\n",
    "    '1symbol': 'SALTETH',\n",
    "    '2side': 'SELL',\n",
    "    '3type': 'LIMIT',\n",
    "    '4timeInForce': 'GTC',\n",
    "    '5quantity': 20,\n",
    "    '6price': 0.025\n",
    "}\n",
    "\n",
    "data = data_string(x)\n",
    "r = requests.post(root_site + trade + '?' + data + '&signature=%s' % signer(data), headers={'X-MBX-APIKEY': publicKey})"
   ]
  },
  {
   "cell_type": "code",
   "execution_count": 184,
   "metadata": {},
   "outputs": [
    {
     "data": {
      "text/plain": [
       "{u'clientOrderId': u'qCYwkh1CyuMnlncKhz1Uk8',\n",
       " u'executedQty': u'0.00000000',\n",
       " u'orderId': 4967386,\n",
       " u'origQty': u'20.00000000',\n",
       " u'price': u'0.02500000',\n",
       " u'side': u'SELL',\n",
       " u'status': u'NEW',\n",
       " u'symbol': u'SALTETH',\n",
       " u'timeInForce': u'GTC',\n",
       " u'transactTime': 1515273477373L,\n",
       " u'type': u'LIMIT'}"
      ]
     },
     "execution_count": 184,
     "metadata": {},
     "output_type": "execute_result"
    }
   ],
   "source": [
    "r.json()"
   ]
  },
  {
   "cell_type": "code",
   "execution_count": null,
   "metadata": {},
   "outputs": [],
   "source": []
  },
  {
   "cell_type": "code",
   "execution_count": null,
   "metadata": {},
   "outputs": [],
   "source": []
  },
  {
   "cell_type": "code",
   "execution_count": 170,
   "metadata": {},
   "outputs": [],
   "source": [
    "y = {\n",
    "    '1symbol': 'SALTETH',\n",
    "    '2orderId': 4967386\n",
    "}\n",
    "\n",
    "data = data_string(y)\n",
    "r2 = requests.get(root_site + trade + '?' + data + '&signature=%s' % signer(data), headers={'X-MBX-APIKEY': publicKey})"
   ]
  },
  {
   "cell_type": "code",
   "execution_count": 171,
   "metadata": {},
   "outputs": [
    {
     "data": {
      "text/plain": [
       "u'{\"code\":-1021,\"msg\":\"Timestamp for this request is outside of the recvWindow.\"}'"
      ]
     },
     "execution_count": 171,
     "metadata": {},
     "output_type": "execute_result"
    }
   ],
   "source": [
    "r2.text"
   ]
  },
  {
   "cell_type": "code",
   "execution_count": null,
   "metadata": {},
   "outputs": [],
   "source": []
  },
  {
   "cell_type": "code",
   "execution_count": 134,
   "metadata": {},
   "outputs": [],
   "source": [
    "z = {\n",
    "    '1symbol': 'SALTETH',\n",
    "    '2orderId': 4967176\n",
    "}\n",
    "\n",
    "data = data_string(y)\n",
    "r3 = requests.delete(root_site + trade + '?' + data + '&signature=%s' %signer(data), headers={'X-MBX-APIKEY': publicKey})"
   ]
  },
  {
   "cell_type": "code",
   "execution_count": 135,
   "metadata": {},
   "outputs": [
    {
     "data": {
      "text/plain": [
       "u'{\"code\":-2011,\"msg\":\"UNKNOWN_ORDER\"}'"
      ]
     },
     "execution_count": 135,
     "metadata": {},
     "output_type": "execute_result"
    }
   ],
   "source": [
    "r3.text"
   ]
  },
  {
   "cell_type": "code",
   "execution_count": null,
   "metadata": {},
   "outputs": [],
   "source": []
  },
  {
   "cell_type": "code",
   "execution_count": 139,
   "metadata": {},
   "outputs": [],
   "source": [
    "s = {}\n",
    "\n",
    "data = data_string(s)\n",
    "r4 = requests.get(root_site + account + '?' + data + '&signature=%s' %signer(data), headers={'X-MBX-APIKEY': publicKey})"
   ]
  },
  {
   "cell_type": "code",
   "execution_count": null,
   "metadata": {},
   "outputs": [],
   "source": []
  }
 ],
 "metadata": {
  "kernelspec": {
   "display_name": "Python 2",
   "language": "python",
   "name": "python2"
  },
  "language_info": {
   "codemirror_mode": {
    "name": "ipython",
    "version": 2
   },
   "file_extension": ".py",
   "mimetype": "text/x-python",
   "name": "python",
   "nbconvert_exporter": "python",
   "pygments_lexer": "ipython2",
   "version": "2.7.12"
  }
 },
 "nbformat": 4,
 "nbformat_minor": 2
}
